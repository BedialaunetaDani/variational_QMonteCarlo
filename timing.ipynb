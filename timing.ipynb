{
 "cells": [
  {
   "cell_type": "code",
   "execution_count": 1,
   "id": "c4a67507",
   "metadata": {},
   "outputs": [],
   "source": [
    "import lib as lib\n",
    "from inputs import *\n",
    "import numpy as np"
   ]
  },
  {
   "cell_type": "markdown",
   "id": "01f64294",
   "metadata": {},
   "source": [
    "# Timing of the parallelization advantage\n",
    "\n",
    "We the performance of the parallelization with different number of cores, random walkers, and steps for each random walker (using the Harmonic Oscillator system). "
   ]
  },
  {
   "cell_type": "code",
   "execution_count": 4,
   "id": "3766846d",
   "metadata": {},
   "outputs": [],
   "source": [
    "# Input parameters\n",
    "E_local_f = E_local_Harmonic_Oscillator\n",
    "prob_density = prob_density_Harmonic_Oscillator\n",
    "dim = 1 # dimension of configuration space\n",
    "alpha = np.array([0.65])\n",
    "trial_move = 1.2222\n",
    "\n",
    "N_skip = 1000\n",
    "L_start = 5"
   ]
  },
  {
   "cell_type": "markdown",
   "id": "5a16db9d",
   "metadata": {},
   "source": [
    "## Analysis of the N_walkers\n",
    "\n",
    "Using N_steps = 25000, the results are\n",
    "\n",
    "| N_walkers | time [s] (1 core) | time [s] (4 cores) |\n",
    "| --- | --- | --- |\n",
    "| 250 | 1.75 | 2.07 |\n",
    "| 1000 | 3.76 | 3.02 |\n",
    "| 4000 | 9.75 | 6.38 |\n",
    "\n",
    "from which we can see that if the number of walkers is high, there is an increase of the performance using parallelization (although it is not by a factor of 4)."
   ]
  },
  {
   "cell_type": "code",
   "execution_count": 20,
   "id": "1d30e5c5",
   "metadata": {},
   "outputs": [
    {
     "name": "stdout",
     "output_type": "stream",
     "text": [
      "1.75 s ± 71.1 ms per loop (mean ± std. dev. of 7 runs, 1 loop each)\n"
     ]
    }
   ],
   "source": [
    "# Monte Carlo integration params\n",
    "N_steps = 25000\n",
    "N_walkers = 250\n",
    "N_cores = 1\n",
    "\n",
    "%timeit lib.MC_integration(E_local_f, prob_density, alpha, dim, N_steps=N_steps, N_walkers=N_walkers, N_skip=N_skip, L_start=L_start, N_cores=N_cores, trial_move=trial_move)"
   ]
  },
  {
   "cell_type": "code",
   "execution_count": 6,
   "id": "9cc8de84",
   "metadata": {},
   "outputs": [
    {
     "name": "stdout",
     "output_type": "stream",
     "text": [
      "2.07 s ± 71 ms per loop (mean ± std. dev. of 7 runs, 1 loop each)\n"
     ]
    }
   ],
   "source": [
    "# Monte Carlo integration params\n",
    "N_steps = 25000\n",
    "N_walkers = 250\n",
    "N_cores = 4\n",
    "\n",
    "%timeit lib.MC_integration(E_local_f, prob_density, alpha, dim, N_steps=N_steps, N_walkers=N_walkers, N_skip=N_skip, L_start=L_start, N_cores=N_cores, trial_move=trial_move)"
   ]
  },
  {
   "cell_type": "code",
   "execution_count": 7,
   "id": "a1bb4135",
   "metadata": {},
   "outputs": [
    {
     "name": "stdout",
     "output_type": "stream",
     "text": [
      "3.76 s ± 176 ms per loop (mean ± std. dev. of 7 runs, 1 loop each)\n"
     ]
    }
   ],
   "source": [
    "# Monte Carlo integration params\n",
    "N_steps = 25000\n",
    "N_walkers = 250*4\n",
    "N_cores = 1\n",
    "\n",
    "%timeit lib.MC_integration(E_local_f, prob_density, alpha, dim, N_steps=N_steps, N_walkers=N_walkers, N_skip=N_skip, L_start=L_start, N_cores=N_cores, trial_move=trial_move)"
   ]
  },
  {
   "cell_type": "code",
   "execution_count": 8,
   "id": "5be5955b",
   "metadata": {},
   "outputs": [
    {
     "name": "stdout",
     "output_type": "stream",
     "text": [
      "3.02 s ± 111 ms per loop (mean ± std. dev. of 7 runs, 1 loop each)\n"
     ]
    }
   ],
   "source": [
    "# Monte Carlo integration params\n",
    "N_steps = 25000\n",
    "N_walkers = 250*4\n",
    "N_cores = 4\n",
    "\n",
    "%timeit lib.MC_integration(E_local_f, prob_density, alpha, dim, N_steps=N_steps, N_walkers=N_walkers, N_skip=N_skip, L_start=L_start, N_cores=N_cores, trial_move=trial_move)"
   ]
  },
  {
   "cell_type": "code",
   "execution_count": 9,
   "id": "6defb973",
   "metadata": {},
   "outputs": [
    {
     "name": "stdout",
     "output_type": "stream",
     "text": [
      "9.75 s ± 224 ms per loop (mean ± std. dev. of 7 runs, 1 loop each)\n"
     ]
    }
   ],
   "source": [
    "# Monte Carlo integration params\n",
    "N_steps = 25000\n",
    "N_walkers = 250*16\n",
    "N_cores = 1\n",
    "\n",
    "%timeit lib.MC_integration(E_local_f, prob_density, alpha, dim, N_steps=N_steps, N_walkers=N_walkers, N_skip=N_skip, L_start=L_start, N_cores=N_cores, trial_move=trial_move)"
   ]
  },
  {
   "cell_type": "code",
   "execution_count": 10,
   "id": "a7672977",
   "metadata": {},
   "outputs": [
    {
     "name": "stdout",
     "output_type": "stream",
     "text": [
      "6.38 s ± 45.4 ms per loop (mean ± std. dev. of 7 runs, 1 loop each)\n"
     ]
    }
   ],
   "source": [
    "# Monte Carlo integration params\n",
    "N_steps = 25000\n",
    "N_walkers = 250*16\n",
    "N_cores = 4\n",
    "\n",
    "%timeit lib.MC_integration(E_local_f, prob_density, alpha, dim, N_steps=N_steps, N_walkers=N_walkers, N_skip=N_skip, L_start=L_start, N_cores=N_cores, trial_move=trial_move)"
   ]
  },
  {
   "cell_type": "markdown",
   "id": "c6e09bbe",
   "metadata": {},
   "source": [
    "## Analysis of the N_steps\n",
    "\n",
    "Using N_walkers = 1000, the results are\n",
    "\n",
    "| N_steps | time [s] (1 core) | time [s] (4 cores) |\n",
    "| --- | --- | --- |\n",
    "| 2500 | 0.43 | 0.51 |\n",
    "| 25000 | 3.59 | 3.16 |\n",
    "| 50000 | 6.58 | 5.74 |\n",
    "| 75000 | 9.80 | 8.61 |\n",
    "\n",
    "from which we can see that the decrease in run time using more cores is not as good as when varying the number of walkers, but still there is an advantage compared to using a single core. "
   ]
  },
  {
   "cell_type": "code",
   "execution_count": 11,
   "id": "7636d63c",
   "metadata": {},
   "outputs": [
    {
     "name": "stdout",
     "output_type": "stream",
     "text": [
      "430 ms ± 33 ms per loop (mean ± std. dev. of 7 runs, 1 loop each)\n"
     ]
    }
   ],
   "source": [
    "# Monte Carlo integration params\n",
    "N_steps = 2500\n",
    "N_walkers = 250*4\n",
    "N_cores = 1\n",
    "\n",
    "%timeit lib.MC_integration(E_local_f, prob_density, alpha, dim, N_steps=N_steps, N_walkers=N_walkers, N_skip=N_skip, L_start=L_start, N_cores=N_cores, trial_move=trial_move)"
   ]
  },
  {
   "cell_type": "code",
   "execution_count": 12,
   "id": "92cafcb4",
   "metadata": {},
   "outputs": [
    {
     "name": "stdout",
     "output_type": "stream",
     "text": [
      "512 ms ± 69.1 ms per loop (mean ± std. dev. of 7 runs, 1 loop each)\n"
     ]
    }
   ],
   "source": [
    "# Monte Carlo integration params\n",
    "N_steps = 2500\n",
    "N_walkers = 250*4\n",
    "N_cores = 4\n",
    "\n",
    "%timeit lib.MC_integration(E_local_f, prob_density, alpha, dim, N_steps=N_steps, N_walkers=N_walkers, N_skip=N_skip, L_start=L_start, N_cores=N_cores, trial_move=trial_move)"
   ]
  },
  {
   "cell_type": "code",
   "execution_count": 13,
   "id": "e314c001",
   "metadata": {},
   "outputs": [
    {
     "name": "stdout",
     "output_type": "stream",
     "text": [
      "3.59 s ± 182 ms per loop (mean ± std. dev. of 7 runs, 1 loop each)\n"
     ]
    }
   ],
   "source": [
    "# Monte Carlo integration params\n",
    "N_steps = 25000\n",
    "N_walkers = 250*4\n",
    "N_cores = 1\n",
    "\n",
    "%timeit lib.MC_integration(E_local_f, prob_density, alpha, dim, N_steps=N_steps, N_walkers=N_walkers, N_skip=N_skip, L_start=L_start, N_cores=N_cores, trial_move=trial_move)"
   ]
  },
  {
   "cell_type": "code",
   "execution_count": 14,
   "id": "6c1b46d7",
   "metadata": {},
   "outputs": [
    {
     "name": "stdout",
     "output_type": "stream",
     "text": [
      "3.16 s ± 267 ms per loop (mean ± std. dev. of 7 runs, 1 loop each)\n"
     ]
    }
   ],
   "source": [
    "# Monte Carlo integration params\n",
    "N_steps = 25000\n",
    "N_walkers = 250*4\n",
    "N_cores = 4\n",
    "\n",
    "%timeit lib.MC_integration(E_local_f, prob_density, alpha, dim, N_steps=N_steps, N_walkers=N_walkers, N_skip=N_skip, L_start=L_start, N_cores=N_cores, trial_move=trial_move)"
   ]
  },
  {
   "cell_type": "code",
   "execution_count": 15,
   "id": "c00c40c8",
   "metadata": {},
   "outputs": [
    {
     "name": "stdout",
     "output_type": "stream",
     "text": [
      "6.58 s ± 73.1 ms per loop (mean ± std. dev. of 7 runs, 1 loop each)\n"
     ]
    }
   ],
   "source": [
    "# Monte Carlo integration params\n",
    "N_steps = 25000*2\n",
    "N_walkers = 250*4\n",
    "N_cores = 1\n",
    "\n",
    "%timeit lib.MC_integration(E_local_f, prob_density, alpha, dim, N_steps=N_steps, N_walkers=N_walkers, N_skip=N_skip, L_start=L_start, N_cores=N_cores, trial_move=trial_move)"
   ]
  },
  {
   "cell_type": "code",
   "execution_count": 16,
   "id": "82b24d70",
   "metadata": {},
   "outputs": [
    {
     "name": "stdout",
     "output_type": "stream",
     "text": [
      "5.74 s ± 2.91 ms per loop (mean ± std. dev. of 7 runs, 1 loop each)\n"
     ]
    }
   ],
   "source": [
    "# Monte Carlo integration params\n",
    "N_steps = 25000*2\n",
    "N_walkers = 250*4\n",
    "N_cores = 4\n",
    "\n",
    "%timeit lib.MC_integration(E_local_f, prob_density, alpha, dim, N_steps=N_steps, N_walkers=N_walkers, N_skip=N_skip, L_start=L_start, N_cores=N_cores, trial_move=trial_move)"
   ]
  },
  {
   "cell_type": "code",
   "execution_count": 17,
   "id": "ef631407",
   "metadata": {},
   "outputs": [
    {
     "name": "stdout",
     "output_type": "stream",
     "text": [
      "9.8 s ± 118 ms per loop (mean ± std. dev. of 7 runs, 1 loop each)\n"
     ]
    }
   ],
   "source": [
    "# Monte Carlo integration params\n",
    "N_steps = 25000*3\n",
    "N_walkers = 250*4\n",
    "N_cores = 1\n",
    "\n",
    "%timeit lib.MC_integration(E_local_f, prob_density, alpha, dim, N_steps=N_steps, N_walkers=N_walkers, N_skip=N_skip, L_start=L_start, N_cores=N_cores, trial_move=trial_move)"
   ]
  },
  {
   "cell_type": "code",
   "execution_count": 18,
   "id": "a2e53c36",
   "metadata": {},
   "outputs": [
    {
     "name": "stdout",
     "output_type": "stream",
     "text": [
      "8.61 s ± 51.4 ms per loop (mean ± std. dev. of 7 runs, 1 loop each)\n"
     ]
    }
   ],
   "source": [
    "# Monte Carlo integration params\n",
    "N_steps = 25000*3\n",
    "N_walkers = 250*4\n",
    "N_cores = 4\n",
    "\n",
    "%timeit lib.MC_integration(E_local_f, prob_density, alpha, dim, N_steps=N_steps, N_walkers=N_walkers, N_skip=N_skip, L_start=L_start, N_cores=N_cores, trial_move=trial_move)"
   ]
  },
  {
   "cell_type": "markdown",
   "id": "b00f2128",
   "metadata": {},
   "source": [
    "## Final remarks\n",
    "\n",
    "Apart from the run time, another important aspect is the memory usage. Calculating more N_walkers and N_steps with more cores (for the same amount of time) also implies using more memory, which can be a limiting aspect. "
   ]
  }
 ],
 "metadata": {
  "kernelspec": {
   "display_name": "Python 3",
   "language": "python",
   "name": "python3"
  },
  "language_info": {
   "codemirror_mode": {
    "name": "ipython",
    "version": 3
   },
   "file_extension": ".py",
   "mimetype": "text/x-python",
   "name": "python",
   "nbconvert_exporter": "python",
   "pygments_lexer": "ipython3",
   "version": "3.7.7"
  }
 },
 "nbformat": 4,
 "nbformat_minor": 5
}
