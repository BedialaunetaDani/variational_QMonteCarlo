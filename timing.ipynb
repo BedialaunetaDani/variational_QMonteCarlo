{
 "cells": [
  {
   "cell_type": "code",
   "execution_count": 10,
   "id": "c4a67507",
   "metadata": {},
   "outputs": [],
   "source": [
    "import lib as lib\n",
    "from inputs import *\n",
    "import numpy as np"
   ]
  },
  {
   "cell_type": "markdown",
   "id": "01f64294",
   "metadata": {},
   "source": [
    "# Timing of the parallelization advantage\n",
    "\n",
    "We the performance of the parallelization with different number of cores, random walkers, and steps for each random walker (using the Harmonic Oscillator system). "
   ]
  },
  {
   "cell_type": "code",
   "execution_count": 12,
   "id": "3766846d",
   "metadata": {},
   "outputs": [],
   "source": [
    "# Input parameters\n",
    "E_local_f = E_local_Harmonic_Oscillator\n",
    "prob_density = prob_density_Harmonic_Oscillator\n",
    "dim = 1 # dimension of configuration space\n",
    "alpha = [0.65]\n",
    "trial_move = 1.2222\n",
    "\n",
    "N_skip = 1000\n",
    "L_start = 5"
   ]
  },
  {
   "cell_type": "markdown",
   "id": "5a16db9d",
   "metadata": {},
   "source": [
    "## Analysis of the N_walkers\n",
    "\n",
    "Using N_steps = 25000, the results are\n",
    "\n",
    "| N_walkers | time [s] (1 core) | time [s] (4 cores) |\n",
    "| --- | --- | --- |\n",
    "| 250 | 1.97 | 2.20 |\n",
    "| 1000 | 4.64 | 3.91 |\n",
    "| 4000 | 14.9 | 10.1 |\n",
    "\n",
    "from which we can see that if the number of walkers is high, there is an increase of the performance using parallelization (although it is not by a factor of 4)."
   ]
  },
  {
   "cell_type": "code",
   "execution_count": 7,
   "id": "1d30e5c5",
   "metadata": {},
   "outputs": [
    {
     "name": "stdout",
     "output_type": "stream",
     "text": [
      "1.97 s ± 6.28 ms per loop (mean ± std. dev. of 7 runs, 1 loop each)\n"
     ]
    }
   ],
   "source": [
    "# Monte Carlo integration params\n",
    "N_steps = 25000\n",
    "N_walkers = 250\n",
    "N_cores = 1\n",
    "\n",
    "%timeit lib.MC_integration(E_local_f, prob_density, alpha, dim, N_steps=N_steps, N_walkers=N_walkers, N_skip=N_skip, L_start=L_start, N_cores=N_cores, trial_move=trial_move)"
   ]
  },
  {
   "cell_type": "code",
   "execution_count": 16,
   "id": "9cc8de84",
   "metadata": {},
   "outputs": [
    {
     "name": "stdout",
     "output_type": "stream",
     "text": [
      "2.2 s ± 46.1 ms per loop (mean ± std. dev. of 7 runs, 1 loop each)\n"
     ]
    }
   ],
   "source": [
    "# Monte Carlo integration params\n",
    "N_steps = 25000\n",
    "N_walkers = 250\n",
    "N_cores = 4\n",
    "\n",
    "%timeit lib.MC_integration(E_local_f, prob_density, alpha, dim, N_steps=N_steps, N_walkers=N_walkers, N_skip=N_skip, L_start=L_start, N_cores=N_cores, trial_move=trial_move)"
   ]
  },
  {
   "cell_type": "code",
   "execution_count": 15,
   "id": "a1bb4135",
   "metadata": {},
   "outputs": [
    {
     "name": "stdout",
     "output_type": "stream",
     "text": [
      "4.64 s ± 59.3 ms per loop (mean ± std. dev. of 7 runs, 1 loop each)\n"
     ]
    }
   ],
   "source": [
    "# Monte Carlo integration params\n",
    "N_steps = 25000\n",
    "N_walkers = 250*4\n",
    "N_cores = 1\n",
    "\n",
    "%timeit lib.MC_integration(E_local_f, prob_density, alpha, dim, N_steps=N_steps, N_walkers=N_walkers, N_skip=N_skip, L_start=L_start, N_cores=N_cores, trial_move=trial_move)"
   ]
  },
  {
   "cell_type": "code",
   "execution_count": 14,
   "id": "5be5955b",
   "metadata": {},
   "outputs": [
    {
     "name": "stdout",
     "output_type": "stream",
     "text": [
      "3.91 s ± 118 ms per loop (mean ± std. dev. of 7 runs, 1 loop each)\n"
     ]
    }
   ],
   "source": [
    "# Monte Carlo integration params\n",
    "N_steps = 25000\n",
    "N_walkers = 250*4\n",
    "N_cores = 4\n",
    "\n",
    "%timeit lib.MC_integration(E_local_f, prob_density, alpha, dim, N_steps=N_steps, N_walkers=N_walkers, N_skip=N_skip, L_start=L_start, N_cores=N_cores, trial_move=trial_move)"
   ]
  },
  {
   "cell_type": "code",
   "execution_count": 17,
   "id": "6defb973",
   "metadata": {},
   "outputs": [
    {
     "name": "stdout",
     "output_type": "stream",
     "text": [
      "14.9 s ± 103 ms per loop (mean ± std. dev. of 7 runs, 1 loop each)\n"
     ]
    }
   ],
   "source": [
    "# Monte Carlo integration params\n",
    "N_steps = 25000\n",
    "N_walkers = 250*16\n",
    "N_cores = 1\n",
    "\n",
    "%timeit lib.MC_integration(E_local_f, prob_density, alpha, dim, N_steps=N_steps, N_walkers=N_walkers, N_skip=N_skip, L_start=L_start, N_cores=N_cores, trial_move=trial_move)"
   ]
  },
  {
   "cell_type": "code",
   "execution_count": 18,
   "id": "a7672977",
   "metadata": {},
   "outputs": [
    {
     "name": "stdout",
     "output_type": "stream",
     "text": [
      "10.1 s ± 117 ms per loop (mean ± std. dev. of 7 runs, 1 loop each)\n"
     ]
    }
   ],
   "source": [
    "# Monte Carlo integration params\n",
    "N_steps = 25000\n",
    "N_walkers = 250*16\n",
    "N_cores = 4\n",
    "\n",
    "%timeit lib.MC_integration(E_local_f, prob_density, alpha, dim, N_steps=N_steps, N_walkers=N_walkers, N_skip=N_skip, L_start=L_start, N_cores=N_cores, trial_move=trial_move)"
   ]
  },
  {
   "cell_type": "markdown",
   "id": "c6e09bbe",
   "metadata": {},
   "source": [
    "## Analysis of the N_steps\n",
    "\n",
    "Using N_walkers = 1000, the results are\n",
    "\n",
    "| N_steps | time [s] (1 core) | time [s] (4 cores) |\n",
    "| --- | --- | --- |\n",
    "| 2500 | 0.54 | 0.49 |\n",
    "| 25000 | 4.87 | 4.16 |\n",
    "| 50000 | 9.30 | 8.33 |\n",
    "| 75000 | 14.7 | 12.5 |\n",
    "\n",
    "from which we can see that ..."
   ]
  },
  {
   "cell_type": "code",
   "execution_count": 22,
   "id": "7636d63c",
   "metadata": {},
   "outputs": [
    {
     "name": "stdout",
     "output_type": "stream",
     "text": [
      "541 ms ± 34.6 ms per loop (mean ± std. dev. of 7 runs, 1 loop each)\n"
     ]
    }
   ],
   "source": [
    "# Monte Carlo integration params\n",
    "N_steps = 2500\n",
    "N_walkers = 250*4\n",
    "N_cores = 1\n",
    "\n",
    "%timeit lib.MC_integration(E_local_f, prob_density, alpha, dim, N_steps=N_steps, N_walkers=N_walkers, N_skip=N_skip, L_start=L_start, N_cores=N_cores, trial_move=trial_move)"
   ]
  },
  {
   "cell_type": "code",
   "execution_count": 23,
   "id": "92cafcb4",
   "metadata": {},
   "outputs": [
    {
     "name": "stdout",
     "output_type": "stream",
     "text": [
      "486 ms ± 77.3 ms per loop (mean ± std. dev. of 7 runs, 1 loop each)\n"
     ]
    }
   ],
   "source": [
    "# Monte Carlo integration params\n",
    "N_steps = 2500\n",
    "N_walkers = 250*4\n",
    "N_cores = 4\n",
    "\n",
    "%timeit lib.MC_integration(E_local_f, prob_density, alpha, dim, N_steps=N_steps, N_walkers=N_walkers, N_skip=N_skip, L_start=L_start, N_cores=N_cores, trial_move=trial_move)"
   ]
  },
  {
   "cell_type": "code",
   "execution_count": 24,
   "id": "e314c001",
   "metadata": {},
   "outputs": [
    {
     "name": "stdout",
     "output_type": "stream",
     "text": [
      "4.87 s ± 197 ms per loop (mean ± std. dev. of 7 runs, 1 loop each)\n"
     ]
    }
   ],
   "source": [
    "# Monte Carlo integration params\n",
    "N_steps = 25000\n",
    "N_walkers = 250*4\n",
    "N_cores = 1\n",
    "\n",
    "%timeit lib.MC_integration(E_local_f, prob_density, alpha, dim, N_steps=N_steps, N_walkers=N_walkers, N_skip=N_skip, L_start=L_start, N_cores=N_cores, trial_move=trial_move)"
   ]
  },
  {
   "cell_type": "code",
   "execution_count": 25,
   "id": "6c1b46d7",
   "metadata": {},
   "outputs": [
    {
     "name": "stdout",
     "output_type": "stream",
     "text": [
      "4.16 s ± 178 ms per loop (mean ± std. dev. of 7 runs, 1 loop each)\n"
     ]
    }
   ],
   "source": [
    "# Monte Carlo integration params\n",
    "N_steps = 25000\n",
    "N_walkers = 250*4\n",
    "N_cores = 4\n",
    "\n",
    "%timeit lib.MC_integration(E_local_f, prob_density, alpha, dim, N_steps=N_steps, N_walkers=N_walkers, N_skip=N_skip, L_start=L_start, N_cores=N_cores, trial_move=trial_move)"
   ]
  },
  {
   "cell_type": "code",
   "execution_count": 26,
   "id": "c00c40c8",
   "metadata": {},
   "outputs": [
    {
     "name": "stdout",
     "output_type": "stream",
     "text": [
      "9.3 s ± 54.7 ms per loop (mean ± std. dev. of 7 runs, 1 loop each)\n"
     ]
    }
   ],
   "source": [
    "# Monte Carlo integration params\n",
    "N_steps = 25000*2\n",
    "N_walkers = 250*4\n",
    "N_cores = 1\n",
    "\n",
    "%timeit lib.MC_integration(E_local_f, prob_density, alpha, dim, N_steps=N_steps, N_walkers=N_walkers, N_skip=N_skip, L_start=L_start, N_cores=N_cores, trial_move=trial_move)"
   ]
  },
  {
   "cell_type": "code",
   "execution_count": 27,
   "id": "82b24d70",
   "metadata": {},
   "outputs": [
    {
     "name": "stdout",
     "output_type": "stream",
     "text": [
      "8.33 s ± 429 ms per loop (mean ± std. dev. of 7 runs, 1 loop each)\n"
     ]
    }
   ],
   "source": [
    "# Monte Carlo integration params\n",
    "N_steps = 25000*2\n",
    "N_walkers = 250*4\n",
    "N_cores = 4\n",
    "\n",
    "%timeit lib.MC_integration(E_local_f, prob_density, alpha, dim, N_steps=N_steps, N_walkers=N_walkers, N_skip=N_skip, L_start=L_start, N_cores=N_cores, trial_move=trial_move)"
   ]
  },
  {
   "cell_type": "code",
   "execution_count": 28,
   "id": "ef631407",
   "metadata": {},
   "outputs": [
    {
     "name": "stdout",
     "output_type": "stream",
     "text": [
      "14.7 s ± 501 ms per loop (mean ± std. dev. of 7 runs, 1 loop each)\n"
     ]
    }
   ],
   "source": [
    "# Monte Carlo integration params\n",
    "N_steps = 25000*3\n",
    "N_walkers = 250*4\n",
    "N_cores = 1\n",
    "\n",
    "%timeit lib.MC_integration(E_local_f, prob_density, alpha, dim, N_steps=N_steps, N_walkers=N_walkers, N_skip=N_skip, L_start=L_start, N_cores=N_cores, trial_move=trial_move)"
   ]
  },
  {
   "cell_type": "code",
   "execution_count": 29,
   "id": "a2e53c36",
   "metadata": {},
   "outputs": [
    {
     "name": "stdout",
     "output_type": "stream",
     "text": [
      "12.5 s ± 488 ms per loop (mean ± std. dev. of 7 runs, 1 loop each)\n"
     ]
    }
   ],
   "source": [
    "# Monte Carlo integration params\n",
    "N_steps = 25000*3\n",
    "N_walkers = 250*4\n",
    "N_cores = 4\n",
    "\n",
    "%timeit lib.MC_integration(E_local_f, prob_density, alpha, dim, N_steps=N_steps, N_walkers=N_walkers, N_skip=N_skip, L_start=L_start, N_cores=N_cores, trial_move=trial_move)"
   ]
  },
  {
   "cell_type": "markdown",
   "id": "b00f2128",
   "metadata": {},
   "source": [
    "## Final remarks\n",
    "\n",
    "Apart from the run time, another important aspect is the memory usage. For example, running a simulation with N_steps = 50000 and N_walkers = 4000 is not possible with 8GB of RAM. \n",
    "Moreover, in order to have get the maximum advantage, all operations should be parallelized, which is not the case in our script. Therefore, the best option would be to run simulations separately in each core and store the results in a file to finally process them into a unique value for the energy. "
   ]
  }
 ],
 "metadata": {
  "kernelspec": {
   "display_name": "Python 3",
   "language": "python",
   "name": "python3"
  },
  "language_info": {
   "codemirror_mode": {
    "name": "ipython",
    "version": 3
   },
   "file_extension": ".py",
   "mimetype": "text/x-python",
   "name": "python",
   "nbconvert_exporter": "python",
   "pygments_lexer": "ipython3",
   "version": "3.7.7"
  }
 },
 "nbformat": 4,
 "nbformat_minor": 5
}
